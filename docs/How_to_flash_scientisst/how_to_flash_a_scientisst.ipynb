{
 "cells": [
  {
   "attachments": {},
   "cell_type": "markdown",
   "id": "1e2a027b",
   "metadata": {},
   "source": [
    "![scientisst-notebooks_top-banner](https://raw.githubusercontent.com/scientisst/notebooks/59632d3d477981a3b1cc12157e12bbdcdb45def8/_Resources/top-banner.png)"
   ]
  },
  {
   "attachments": {},
   "cell_type": "markdown",
   "id": "3cf183a2",
   "metadata": {},
   "source": [
    "# <span style=\"color:#484848;\"> How to flash a ScientISST </span>"
   ]
  },
  {
   "attachments": {},
   "cell_type": "markdown",
   "id": "36a4cefd",
   "metadata": {},
   "source": [
    "### <span style=\"color:#00aba1;\"> Keywords </span>\n",
    "`ScientISST`, `firmware`, `configuration`"
   ]
  },
  {
   "attachments": {},
   "cell_type": "markdown",
   "id": "e09b7dc0",
   "metadata": {},
   "source": [
    "### <span style=\"color:#00aba1;\"> Notebook Info </span>\n",
    "\n",
    "**Contributor(s):** Rui Maciel, Frederico Almeida Santos\n",
    "\n",
    "**Date of creation:** 05/03/2023\n",
    "\n",
    "**Last update:** 05/03/2023"
   ]
  },
  {
   "attachments": {},
   "cell_type": "markdown",
   "id": "043fa9be",
   "metadata": {},
   "source": [
    "### <span style=\"color:#00aba1;\"> Description </span>\n",
    "This notebook will guide you through the process of flashing a ScientISST board. The guide includes steps for Windows, Linux, Mac OS and Windows Subsystem for Linux."
   ]
  },
  {
   "attachments": {},
   "cell_type": "markdown",
   "id": "14a7e588",
   "metadata": {},
   "source": [
    "### <span style=\"color:#00aba1;\"> Materials </span>\n",
    "\n",
    "* 1 ScientISST Board\n",
    "* 1 USB-C cable\n",
    "* 1 computer with internet connection, a USB port, python 3 installed and with one of the following operating systems:\n",
    "    * Windows 10/11\n",
    "    * Linux\n",
    "    * Mac OS\n",
    "    * Windows Subsystem for Linux (WSL2 - Ubuntu or Debian)"
   ]
  },
  {
   "attachments": {},
   "cell_type": "markdown",
   "id": "01d58803",
   "metadata": {},
   "source": [
    "***"
   ]
  },
  {
   "attachments": {},
   "cell_type": "markdown",
   "metadata": {
    "collapsed": false
   },
   "source": [
    "# <span style=\"color:#00aba1;\"> 1. Background </span>"
   ],
   "id": "d6b02c5259df5348"
  },
  {
   "attachments": {},
   "cell_type": "markdown",
   "metadata": {
    "collapsed": false
   },
   "source": [
    "The ScientISST SENSE development board is an hardware platform, designed to empower students, researchers or anyone with an interest in developing biomedical engineering projects with the tools to easily create microcontroller-based devices and bring their health and well-being creations to life.\n",
    "\n",
    "By default the board is pre-programmed with a firmware optimized for real-time data acquisition and streaming, and can be used seamlessly with the available software and APIs. However, it is often important to experiment with custom firmware."
   ],
   "id": "163a7c56be49eec6"
  },
  {
   "attachments": {},
   "cell_type": "markdown",
   "id": "69307772",
   "metadata": {},
   "source": [
    "# <span style=\"color:#00aba1;\"> 2. Prerequisites </span>"
   ]
  },
  {
   "attachments": {},
   "cell_type": "markdown",
   "id": "521fbb4a",
   "metadata": {},
   "source": [
    "## <span style=\"color:#484848;\"> 2.1. Windows </span>\n",
    "\n",
    "Download and install the ESP-IDF version 4.4.4 from the link bellow:\n",
    "\n",
    "[https://dl.espressif.com/dl/esp-idf/?idf=4.4.4](https://dl.espressif.com/dl/esp-idf/?idf=4.4)\n",
    "\n",
    "📋 **NOTE:** It is important to install this specific version 4.4.4 since this is the version currently used by the firmware. Do not install the latest version of ESP-IDF, it is not backwards compatible with version 4.4.x.\n",
    "\n",
    "## <span style=\"color:#484848;\"> 2.2. Mac OS </span>\n",
    "\n",
    "### Step 0 - Before You Start\n",
    "\n",
    "If an error like this is shown during any step:\n",
    "\n",
    "```bash\n",
    "xcrun: error: invalid active developer path (/Library/Developer/CommandLineTools), missing xcrun at: /Library/Developer/CommandLineTools/usr/bin/xcrun\n",
    "```\n",
    "\n",
    "Then you will need to install the XCode command line tools to continue. You can install thee by running:\n",
    "\n",
    "```bash\n",
    "xcode-select --install\n",
    "```\n",
    "\n",
    "Furthermore, if you use Apple M1 platform and see an error like this:\n",
    "\n",
    "```bash\n",
    "WARNING: directory for tool xtensa-esp32-elf version esp-2021r2-patch3-8.4.0 is present, but tool was not found\n",
    "ERROR: tool xtensa-esp32-elf has no installed versions. Please run 'install.sh' to install it.\n",
    "```\n",
    "\n",
    "or:\n",
    "\n",
    "```bash\n",
    "zsh: bad CPU type in executable: ~/.espressif/tools/xtensa-esp32-elf/esp-2021r2-patch3-8.4.0/xtensa-esp32-elf/bin/xtensa-esp32-elf-gcc\n",
    "```\n",
    "\n",
    "Then you will need to install Apple Rosetta 2 by running:\n",
    "\n",
    "```bash\n",
    "/usr/sbin/softwareupdate --install-rosetta --agree-to-license\n",
    "```\n",
    "\n",
    "### Step 1 - Install CMake & Ninja build\n",
    "\n",
    "- If you have [HomeBrew](https://brew.sh/), you can run on the terminal:\n",
    "\n",
    "```bash\n",
    "brew install cmake ninja dfu-util\n",
    "```\n",
    "\n",
    "- If you have [MacPorts](https://www.macports.org/install.php), you can run:\n",
    "\n",
    "```bash\n",
    "sudo port install cmake ninja dfu-util\n",
    "```\n",
    "\n",
    "If you don’t have [HomeBrew](https://brew.sh/) or [MacPorts](https://www.macports.org/install.php), we suggest installing [HomeBrew](https://brew.sh/).\n",
    "\n",
    "### Step 2 - Install ccache (Optional but recommended)\n",
    "\n",
    "- If you have [HomeBrew](https://brew.sh/), you can run on the terminal:\n",
    "\n",
    "```bash\n",
    "brew install ccache\n",
    "```\n",
    "\n",
    "- If you have [MacPorts](https://www.macports.org/install.php), you can run:\n",
    "\n",
    "```bash\n",
    "sudo port install ccache\n",
    "```\n",
    "\n",
    "If you don’t have [HomeBrew](https://brew.sh/) or [MacPorts](https://www.macports.org/install.php), we suggest installing [HomeBrew](https://brew.sh/).\n",
    "\n",
    "### Step 3 - Installing Python 3\n",
    "\n",
    "Check your current python version by running:\n",
    "\n",
    "```bash\n",
    "python --version\n",
    "```\n",
    "\n",
    "if the output is Python 3, then you’re good to go and can proceed to the next step. Otherwise, also check if Python 3 isn’t already installed on your computer by running:\n",
    "\n",
    "```bash\n",
    "python3 --version\n",
    "```\n",
    "\n",
    "If the above command returns an error, it means Python 3 is not installed.\n",
    "\n",
    "Below is an overview of the steps to install Python 3.\n",
    "\n",
    "- If you have [HomeBrew](https://brew.sh/), you can run on the terminal:\n",
    "\n",
    "```bash\n",
    "brew install python3\n",
    "```\n",
    "\n",
    "- If you have [MacPorts](https://www.macports.org/install.php), you can run:\n",
    "\n",
    "```bash\n",
    "sudo port install python38\n",
    "```\n",
    "\n",
    "## <span style=\"color:#484848;\"> 2.3. Linux </span>\n",
    "\n",
    "To compile the firmware you will need to get the following packages. The command to run depends on which distribution of Linux you are using:\n",
    "\n",
    "- Ubuntu and Debian:\n",
    "\n",
    "```bash\n",
    "sudo apt-get install git wget flex bison gperf python3 python3-venv cmake ninja-build ccache libffi-dev libssl-dev dfu-util libusb-1.0-0\n",
    "```\n",
    "\n",
    "- CentOS 7 & 8:\n",
    "\n",
    "```bash\n",
    "sudo yum -y update && sudo yum install git wget flex bison gperf python3 cmake ninja-build ccache dfu-util libusbx\n",
    "```\n",
    "\n",
    "- Arch\n",
    "\n",
    "```bash\n",
    "sudo pacman -S --needed gcc git make flex bison gperf python cmake ninja ccache dfu-util libusb\n",
    "```\n",
    "\n",
    "## <span style=\"color:#484848;\"> 2.4. Linux (WSL2 - Ubuntu and Debian) </span>\n",
    "\n",
    "To compile the firmware you will need to get the following packages. The command to run depends on which distribution of Linux you are using:\n",
    "\n",
    "- Ubuntu and Debian:\n",
    "\n",
    "```bash\n",
    "sudo apt-get install git wget flex bison gperf python3 python3-venv cmake ninja-build ccache libffi-dev libssl-dev dfu-util libusb-1.0-0\n",
    "```\n",
    "\n",
    "```bash\n",
    "sudo apt install linux-tools-virtual hwdata\n",
    "```\n"
   ]
  },
  {
   "attachments": {},
   "cell_type": "markdown",
   "id": "923b217f",
   "metadata": {},
   "source": [
    "# <span style=\"color:#00aba1;\"> 3. Download the firmware repository </span>"
   ]
  },
  {
   "attachments": {},
   "cell_type": "markdown",
   "metadata": {
    "collapsed": false
   },
   "source": [
    "```bash\n",
    "git clone --recursive git@github.com:scientisst/scientisst-sense-firmware.git\n",
    "```"
   ],
   "id": "181241eff52a6df6"
  },
  {
   "attachments": {},
   "cell_type": "markdown",
   "id": "521a6c2b",
   "metadata": {},
   "source": [
    "**(Or update an existing repository instead)**\n",
    "\n",
    "```shell\n",
    "git fetch --all\n",
    "```\n",
    "```shell\n",
    "git reset --hard origin/main\n",
    "```"
   ]
  },
  {
   "attachments": {},
   "cell_type": "markdown",
   "metadata": {
    "collapsed": false
   },
   "source": [
    "# <span style=\"color:#00aba1;\"> 4. Install Xtensa’s toolchain </span>"
   ],
   "id": "cb486182cb1baaae"
  },
  {
   "attachments": {},
   "cell_type": "markdown",
   "metadata": {
    "collapsed": false
   },
   "source": [
    "**(MacOS / Linux)**\n",
    "\n",
    "```shell\n",
    ". ./get_idf.sh --install\n",
    "```\n",
    "\n",
    "**(Windows)**\n",
    "\n",
    "```bash\n",
    "get_idf.bat --install\n",
    "```"
   ],
   "id": "83654cbd728eee7e"
  },
  {
   "attachments": {},
   "cell_type": "markdown",
   "metadata": {
    "collapsed": false
   },
   "source": [
    "# <span style=\"color:#00aba1;\"> 5. Load Xtensa’s tools </span>"
   ],
   "id": "341593e2169cbfc4"
  },
  {
   "attachments": {},
   "cell_type": "markdown",
   "metadata": {
    "collapsed": false
   },
   "source": [
    "This step needs to be repeated every time you restart your terminal.\n",
    "\n",
    "**(MacOS / Linux)**\n",
    "\n",
    "```shell\n",
    ". ./get_idf.sh\n",
    "```\n",
    "\n",
    "**(Windows)**\n",
    "\n",
    "```bash\n",
    "get_idf.bat\n",
    "```"
   ],
   "id": "b2c7bdea8549437f"
  },
  {
   "attachments": {},
   "cell_type": "markdown",
   "id": "648690ed",
   "metadata": {},
   "source": [
    "# <span style=\"color:#00aba1;\"> 6. Configure the firmware </span>"
   ]
  },
  {
   "attachments": {},
   "cell_type": "markdown",
   "id": "00d4cc0a",
   "metadata": {},
   "source": [
    "First open the menuconfig tool:\n",
    "\n",
    "```sh\n",
    "idf.py menuconfig\n",
    "```\n",
    "Then navigate to ScientISST Configuration: Component config -> SCIENTISST Configuration (last option) and configure the desired options.\n",
    "The tool does not verify if the physical hardware supports the selected options, so be careful when selecting the options. Using the monitor tool, you can check if the device is working as expected and if any errors occur.\n",
    "\n",
    "***General Configurations:*** Select the board model (Core, Cardio or Nano), the default communication protocol and if the external ADC is enabled or not.\n",
    "***SD Card Configurations:*** Select if SD Card mode is enabled (in this mode, if sd card is present it will always run in that mode, otherwise it runs BT mode) and the number of channels of the external ADC (only affects SD Card mode and requires that it is enabled).\n",
    "***IMU Configurations:*** Select if the IMU is enabled or not and the data to acquire.\n",
    "***Prevent Acquisition with low battery:*** Select if the acquisition should be prevented when the battery is low. Use with care and mark boards that have this option enabled.\n"
   ]
  },
  {
   "attachments": {},
   "cell_type": "markdown",
   "metadata": {
    "collapsed": false
   },
   "source": [
    "# <span style=\"color:#00aba1;\"> 7. Flash the Firmware </span>"
   ],
   "id": "b9e999cdc0cfcddb"
  },
  {
   "attachments": {},
   "cell_type": "markdown",
   "metadata": {
    "collapsed": false
   },
   "source": [
    "Make sure you connect the ScientISST board to the computer using USB and place it in FLASH mode. Consult your board model for instructions on how to place the board in FLASH mode.\n",
    "\n",
    "```bash\n",
    "idf.py flash\n",
    "```\n",
    "\n",
    "FOR WSL (after every restart and before flashing):\n",
    "\n",
    "First you have to give access of the USB port to the WSL installation. [https://github.com/dorssel/usbipd-win/wiki/WSL-support](https://github.com/dorssel/usbipd-win/wiki/WSL-support)\n",
    "\n",
    "- In WSL shell:\n",
    "\n",
    "```bash\n",
    "sudo update-alternatives --install /usr/local/bin/usbip usbip `ls /usr/lib/linux-tools/*/usbip | tail -n1` 20\n",
    "```\n",
    "\n",
    "- Then in Windows PowerShell:\n",
    "\n",
    "```powershell\n",
    "usbipd wsl list\n",
    "```\n",
    "\n",
    "- Then type with the busid of the board\n",
    "\n",
    "```powershell\n",
    "usbipd wsl attach --busid <busid>\n",
    "```\n",
    "\n",
    "- Finally, in the WSL terminal\n",
    "\n",
    "```bash\n",
    "sudo chmod a+rw /dev/ttyUSB0\n",
    "```"
   ],
   "id": "310dd9d9d846236"
  },
  {
   "attachments": {},
   "cell_type": "markdown",
   "metadata": {
    "collapsed": false
   },
   "source": [
    "# <span style=\"color:#00aba1;\"> 8.Troubleshooting </span>"
   ],
   "id": "e77542724e10aed3"
  },
  {
   "attachments": {},
   "cell_type": "markdown",
   "metadata": {
    "collapsed": false
   },
   "source": [
    "## <span style=\"color:#484848;\"> 8.1. Cannot open /dev/ttyUSB0: Permission denied </span>"
   ],
   "id": "a713d2976aa9e5ce"
  },
  {
   "attachments": {},
   "cell_type": "markdown",
   "metadata": {
    "collapsed": false
   },
   "source": [
    "If you see this message, it means your user cannot access the serial ports without elevated permissions. To fix this use, add yourself to the correct user groups to gain access to the serial ports.\n",
    "\n",
    "**(For MacOS / Linux only)**\n",
    "\n",
    "```bash\n",
    "sudo usermod -a -G tty $USER\n",
    "sudo usermod -a -G dialout $USER\n",
    "```"
   ],
   "id": "ab451a2f800d0bc7"
  },
  {
   "attachments": {},
   "cell_type": "markdown",
   "id": "b4c52f8a",
   "metadata": {},
   "source": [
    "***"
   ]
  },
  {
   "attachments": {},
   "cell_type": "markdown",
   "id": "13f4c736",
   "metadata": {},
   "source": [
    "![scientisst-notebooks_bottom-banner](https://raw.githubusercontent.com/scientisst/notebooks/master/_Resources/bottom-banner.png)"
   ]
  },
  {
   "cell_type": "code",
   "execution_count": null,
   "metadata": {
    "collapsed": false,
    "ExecuteTime": {
     "end_time": "2023-10-21T22:02:55.119085499Z",
     "start_time": "2023-10-21T22:02:55.102429912Z"
    }
   },
   "outputs": [],
   "source": [],
   "id": "4ab34e019433e959"
  }
 ],
 "metadata": {
  "kernelspec": {
   "display_name": "Python 3 (ipykernel)",
   "language": "python",
   "name": "python3"
  },
  "language_info": {
   "codemirror_mode": {
    "name": "ipython",
    "version": 3
   },
   "file_extension": ".py",
   "mimetype": "text/x-python",
   "name": "python",
   "nbconvert_exporter": "python",
   "pygments_lexer": "ipython3",
   "version": "3.10.7"
  },
  "vscode": {
   "interpreter": {
    "hash": "7e1998ff7f8aa20ada591c520b972326324e5ea05489af9e422744c7c09f6dad"
   }
  }
 },
 "nbformat": 4,
 "nbformat_minor": 5
}
